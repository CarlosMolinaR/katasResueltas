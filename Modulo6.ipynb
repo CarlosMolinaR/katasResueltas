{
 "cells": [
  {
   "cell_type": "code",
   "execution_count": null,
   "metadata": {},
   "outputs": [],
   "source": []
  },
  {
   "cell_type": "markdown",
   "metadata": {},
   "source": [
    "## Ejercicio1 : Crear y usar listas de python\n",
    "\n",
    "ejercicio: usar listas para almacenar nombres de planetas"
   ]
  },
  {
   "cell_type": "markdown",
   "metadata": {},
   "source": [
    "las listas permiten almacenar varios valores en una sola variable. comenzaras un proyecto sobre informacion planetaria creando una lista de planetas\n",
    "\n",
    "En primer lugar, crea una variable denominada planets. Agrega los ocho planetas (sin pluton) a la lista. A continuacion, muestra el numero de planetas."
   ]
  },
  {
   "cell_type": "code",
   "execution_count": 1,
   "metadata": {},
   "outputs": [
    {
     "name": "stdout",
     "output_type": "stream",
     "text": [
      "Hay 7 planetas\n"
     ]
    }
   ],
   "source": [
    "planetas = ['Marte', 'Tierra', 'Mercurio', 'Venus', 'Jupiter', 'saturno', 'Urano']\n",
    "\n",
    "print('Hay', len(planetas), 'planetas')"
   ]
  },
  {
   "cell_type": "markdown",
   "metadata": {},
   "source": [
    "Agrega a Pluton a la lista que creaste. Luego muestra tanto el numero de planetas como el ultimo planeta de la lista"
   ]
  },
  {
   "cell_type": "code",
   "execution_count": 4,
   "metadata": {},
   "outputs": [
    {
     "name": "stdout",
     "output_type": "stream",
     "text": [
      "Pluton es el ultimo planeta\n"
     ]
    }
   ],
   "source": [
    "planetas.append('Pluton')\n",
    "print(planetas[-1], 'es el ultimo planeta')"
   ]
  },
  {
   "cell_type": "markdown",
   "metadata": {},
   "source": [
    "## Ejercicio 2: trabajando con datos de una lista\n"
   ]
  },
  {
   "cell_type": "markdown",
   "metadata": {},
   "source": [
    "Es posible que debas trabajar con diferentessecciones de una lista. En nuestro ejemplo, queremos mostrar planetas mas cerca y mas lejos del sol de un planeta que el usuario ingresa por teclado.\n",
    "comienza agregando el codigo pare crear una lista con los planetas"
   ]
  },
  {
   "cell_type": "code",
   "execution_count": 5,
   "metadata": {},
   "outputs": [],
   "source": [
    "planetas = ['Mercury', 'Venus', 'Earth', 'Mars', 'Jupiter', 'Saturn', 'Neptune ']"
   ]
  },
  {
   "cell_type": "markdown",
   "metadata": {},
   "source": []
  },
  {
   "cell_type": "markdown",
   "metadata": {},
   "source": [
    "# Solicita al usuario el nombre de un planeta\n",
    "\n",
    "A continuacion, agrega el codigo para solicitar al usuario un nombre. Debido a que las cadenas distinguen entre mayusculas y minisculas en python, pidale al usuario que use una letra mayuscula para comenzar el nombre del planeta"
   ]
  },
  {
   "cell_type": "code",
   "execution_count": 6,
   "metadata": {},
   "outputs": [],
   "source": [
    "nombrePlaneta = input('Ingresar el nombre del planeta (Inicie con letra mayuscula)')"
   ]
  },
  {
   "cell_type": "markdown",
   "metadata": {},
   "source": [
    "# Encuentra el planeta en la lista\n",
    "\n",
    "Para determinar que planetas estan mas cerca que el ingreso el usuario, debes encontrar donde esta el planeta en la lista. puedes utilizar index para realizar esta operacion. Agrega el codigo para encontrar el indice del planeta"
   ]
  },
  {
   "cell_type": "code",
   "execution_count": 7,
   "metadata": {},
   "outputs": [],
   "source": [
    "buscarPlaneta= planetas.index(nombrePlaneta)"
   ]
  },
  {
   "cell_type": "markdown",
   "metadata": {},
   "source": [
    "mostrar planetas mas cercanos al sol que el que el usuario ingreso \n",
    "\n",
    "con el indice determinado, ahora puedes agregar el codigo para mostrar los planetas mas cercanos al sol."
   ]
  },
  {
   "cell_type": "code",
   "execution_count": 8,
   "metadata": {},
   "outputs": [
    {
     "name": "stdout",
     "output_type": "stream",
     "text": [
      "Los planetas mas cercca del sol son Mercury\n",
      "[]\n"
     ]
    }
   ],
   "source": [
    "print('Los planetas mas cercca del sol son ' + nombrePlaneta)\n",
    "print(planetas[0:buscarPlaneta])"
   ]
  },
  {
   "cell_type": "markdown",
   "metadata": {},
   "source": [
    "# Mostrar planetas mas alejados del sol que el que el usuario ingreso \n",
    "\n",
    "puedes usar el mismo indice para mostrar planetas mas alejados del sol. sin embargo, recuerda que el indice inicial se incluye cuando usar un slice. Como resultado, tendras que agregar 1 al valor. agrega el codigo par amostrar los planetas mas alejados del sol."
   ]
  },
  {
   "cell_type": "code",
   "execution_count": 10,
   "metadata": {},
   "outputs": [
    {
     "name": "stdout",
     "output_type": "stream",
     "text": [
      "Los planetas mas alejados del sol son: Mercury\n",
      "['Venus', 'Earth', 'Mars', 'Jupiter', 'Saturn', 'Neptune ']\n"
     ]
    }
   ],
   "source": [
    "print('Los planetas mas alejados del sol son: ' +nombrePlaneta)\n",
    "print(planetas[buscarPlaneta + 1:])"
   ]
  }
 ],
 "metadata": {
  "interpreter": {
   "hash": "17524f0f0a02ee50c6bea30dab279b5d3da57113754815348add193fa753c57d"
  },
  "kernelspec": {
   "display_name": "Python 3.10.2 64-bit (windows store)",
   "language": "python",
   "name": "python3"
  },
  "language_info": {
   "codemirror_mode": {
    "name": "ipython",
    "version": 3
   },
   "file_extension": ".py",
   "mimetype": "text/x-python",
   "name": "python",
   "nbconvert_exporter": "python",
   "pygments_lexer": "ipython3",
   "version": "3.10.2"
  },
  "orig_nbformat": 4
 },
 "nbformat": 4,
 "nbformat_minor": 2
}
