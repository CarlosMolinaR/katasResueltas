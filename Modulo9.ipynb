{
 "cells": [
  {
   "cell_type": "code",
   "execution_count": null,
   "metadata": {},
   "outputs": [],
   "source": []
  },
  {
   "cell_type": "markdown",
   "metadata": {},
   "source": [
    "## Ejercicio: Uso de funciones en python\n",
    "\n",
    "### Ejercicio 1: Trabajar con argumentos en funciones\n",
    "\n",
    "Los argumentos requeridos en las funciones se utilizan cuando las funciones necesitan que esos argumentos funcionen correctamente. En este ejercicio, construiras un informe de combistible que requiere informacion de varias ubicaciones de combustible en todo el cohete.\n",
    "\n",
    "Comienza por crear una funcion que necesite tres lecturas de combustible y devuelva un informe:\n"
   ]
  },
  {
   "cell_type": "code",
   "execution_count": 8,
   "metadata": {},
   "outputs": [],
   "source": [
    "# Funcion para leer 3 tanques de combustible y muestre el promedio\n",
    "def generador_de_reporte(tanque1, tanque2, tanque3):\n",
    "    promedioT = (tanque1 + tanque2 + tanque3) / 3\n",
    "    return f\"\"\"Reporte:\n",
    "    Promedio Total: { promedioT}%\n",
    "    tanque1: {tanque1}%\n",
    "    tanque2: {tanque2}%\n",
    "    tanque3: {tanque3}% \n",
    "    \"\"\""
   ]
  },
  {
   "cell_type": "markdown",
   "metadata": {},
   "source": [
    "Ahora que hemos definido la funcion de informes, vamos a comprobarlo. Para esta mision, los tanques estan llenos:"
   ]
  },
  {
   "cell_type": "code",
   "execution_count": 9,
   "metadata": {},
   "outputs": [
    {
     "name": "stdout",
     "output_type": "stream",
     "text": [
      "Reporte:\n",
      "    Promedio Total: 70.0%\n",
      "    tanque1: 70%\n",
      "    tanque2: 90%\n",
      "    tanque3: 50% \n",
      "    \n"
     ]
    }
   ],
   "source": [
    "# Llamamos a la función que genera el reporte print(funcion(tanque1, tanque2, tanque3))\n",
    "print(generador_de_reporte(70,90,50))"
   ]
  },
  {
   "cell_type": "markdown",
   "metadata": {},
   "source": [
    "En lugar de simplemente crear el informe, la función también está calculando el promedio. Mejora la legibilidad extrayendo el cálculo promedio de la función en una nueva función para que el promedio se pueda hacer de forma independiente:"
   ]
  },
  {
   "cell_type": "code",
   "execution_count": 12,
   "metadata": {},
   "outputs": [
    {
     "data": {
      "text/plain": [
       "68.33333333333333"
      ]
     },
     "execution_count": 12,
     "metadata": {},
     "output_type": "execute_result"
    }
   ],
   "source": [
    "# Función promedio \n",
    "def promedio(values):\n",
    "    total = sum(values)\n",
    "    numero= len(values)\n",
    "    return total / numero\n",
    "\n",
    "promedio([70,50,85])\n",
    "     "
   ]
  },
  {
   "cell_type": "markdown",
   "metadata": {},
   "source": [
    "Ahora actualiza la función de informes para llamando a la nueva función del promedio:\n"
   ]
  },
  {
   "cell_type": "code",
   "execution_count": 16,
   "metadata": {},
   "outputs": [
    {
     "name": "stdout",
     "output_type": "stream",
     "text": [
      " Informe : \n",
      "    promedio Total: 72.0%\n",
      "    tanque1 : 64%\n",
      "    tanque2 : 81% \n",
      "    tanque3 : 71% \n",
      "    \n"
     ]
    }
   ],
   "source": [
    "# Actualiza la función\n",
    "def generador_de_reporte(tanque1,tanque2,tanque3):\n",
    "    return f\"\"\" Informe : \n",
    "    promedio Total: {promedio([tanque1,tanque2,tanque3])}%\n",
    "    tanque1 : {tanque1}%\n",
    "    tanque2 : {tanque2}% \n",
    "    tanque3 : {tanque3}% \n",
    "    \"\"\"    \n",
    "print(generador_de_reporte(64,81,71))"
   ]
  },
  {
   "cell_type": "markdown",
   "metadata": {},
   "source": [
    "## Ejercicio 2: Trabajo con argumentos de palabra clave\n",
    "\n",
    "### Ejercicio :  Trabajar con argumentos de palabras clave en funciones\n",
    "\n",
    "En este ejercicio, construirás un informe de cohete que requiere varias piezas de información, como el tiempo hasta el destino, el combustible a la izquierda y el nombre del destino. Comienza por crear una función que creará un informe preciso de la misión:"
   ]
  },
  {
   "cell_type": "code",
   "execution_count": 24,
   "metadata": {},
   "outputs": [
    {
     "name": "stdout",
     "output_type": "stream",
     "text": [
      "\n",
      "    Mision Luna\n",
      "    Total de minutos : 70 minutos\n",
      "    Total de galones : 700000 gallones\n",
      "    \n"
     ]
    }
   ],
   "source": [
    "def reporte_mision(prelanzamiento, horaVuelo, destino, tanqueExterno, tanqueprincipal):\n",
    "    return f\"\"\"\n",
    "    Mision {destino}\n",
    "    Total de minutos : {prelanzamiento + horaVuelo} minutos\n",
    "    Total de galones : {tanqueExterno + tanqueprincipal} gallones\n",
    "    \"\"\"\n",
    "\n",
    "print(reporte_mision(20, 50, \"Luna\", 300000, 400000))"
   ]
  },
  {
   "cell_type": "markdown",
   "metadata": {},
   "source": [
    "La función es problemática porque no se puede adaptar para minutos adicionales o tanques adicionales de combustible. Hazlo más flexible permitiendo cualquier número de pasos basados en el tiempo y cualquier número de tanques. En lugar de usar `*args` y `**kwargs`, aprovecha el hecho de que puedes usar cualquier nombre que desees. Asegurate que la función sea más legible mediante el uso de nombres de variables que están asociados con las entradas, como `*minutes` y `**fuel_reservoirs`:"
   ]
  },
  {
   "cell_type": "code",
   "execution_count": 31,
   "metadata": {},
   "outputs": [
    {
     "name": "stdout",
     "output_type": "stream",
     "text": [
      "\n",
      "    Mission Moon\n",
      "    Total de minutos : 95 minutes\n",
      "    Total de combustible : 650000\n",
      "    \n"
     ]
    }
   ],
   "source": [
    "# Escribe tu nueva función de reporte considerando lo anterior\n",
    "def mission_report(destino, *minutes, **fuel_reservoirs):\n",
    "    return f\"\"\"\n",
    "    Mission {destino}\n",
    "    Total de minutos : {sum(minutes)} minutes\n",
    "    Total de combustible : {sum(fuel_reservoirs.values())}\n",
    "    \"\"\"\n",
    "\n",
    "print(mission_report(\"Moon\", 17, 20, 58, principal=400000, externo=250000))"
   ]
  },
  {
   "cell_type": "markdown",
   "metadata": {},
   "source": [
    "Debido a que el combustible que queda en los tanques es específico de cada tanque, actualiza la función para usar el nombre de cada tanque en el informe:"
   ]
  },
  {
   "cell_type": "code",
   "execution_count": 32,
   "metadata": {},
   "outputs": [
    {
     "name": "stdout",
     "output_type": "stream",
     "text": [
      "\n",
      "    Mission Moon\n",
      "    Total de minutos : 74 minutes\n",
      "    Total de combustible : 650000\n",
      "    principal tanque --> 400000 gallons left\n",
      "externo tanque --> 250000 gallons left\n",
      "\n"
     ]
    }
   ],
   "source": [
    "\n",
    "def mission_report(destination, *minutes, **fuel_reservoirs):\n",
    "    main_report = f\"\"\"\n",
    "    Mission {destination}\n",
    "    Total de minutos : {sum(minutes)} minutes\n",
    "    Total de combustible : {sum(fuel_reservoirs.values())}\n",
    "    \"\"\"\n",
    "    for nombreTanque, gallones in fuel_reservoirs.items():\n",
    "        main_report += f\"{nombreTanque} tanque --> {gallones} gallons left\\n\"\n",
    "    return main_report\n",
    "\n",
    "print(mission_report(\"Moon\", 8, 11, 55, principal =400000, externo=250000))"
   ]
  }
 ],
 "metadata": {
  "interpreter": {
   "hash": "f0ff5ac797d034ec7512061e7ae84d53e6d38a529b3bb57492a58405c8c27ff2"
  },
  "kernelspec": {
   "display_name": "Python 3.10.2 64-bit",
   "language": "python",
   "name": "python3"
  },
  "language_info": {
   "codemirror_mode": {
    "name": "ipython",
    "version": 3
   },
   "file_extension": ".py",
   "mimetype": "text/x-python",
   "name": "python",
   "nbconvert_exporter": "python",
   "pygments_lexer": "ipython3",
   "version": "3.10.2"
  },
  "orig_nbformat": 4
 },
 "nbformat": 4,
 "nbformat_minor": 2
}
