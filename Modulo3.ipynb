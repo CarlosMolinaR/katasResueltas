{
 "cells": [
  {
   "cell_type": "code",
   "execution_count": null,
   "metadata": {},
   "outputs": [],
   "source": []
  },
  {
   "cell_type": "markdown",
   "metadata": {},
   "source": [
    "## Ejercicio - Escribir declaraciones\n"
   ]
  },
  {
   "cell_type": "markdown",
   "metadata": {},
   "source": [
    "Para este ejercicio, escribirar una logica condicional que imrpima una advertencia si un asteroide se acerca a la tierra demasiado rapido. La velocidad del asteroide varia dependiendo de lo cerca que este del sol, y cualquier velocidad superior a 25 kilometros por segundo (km/s) merece una advertencia.\n",
    "Un asteroide se acerca, y viaja a una velocidad de 49 km/s."
   ]
  },
  {
   "cell_type": "code",
   "execution_count": 1,
   "metadata": {},
   "outputs": [
    {
     "name": "stdout",
     "output_type": "stream",
     "text": [
      "!Advertencia¡ un asteroide paso los limites de velocidad es de 49 Km/s\n"
     ]
    }
   ],
   "source": [
    "velocidadLimite = 25\n",
    "velocidadAsteroide = 49\n",
    "\n",
    "if velocidadAsteroide >= velocidadLimite:\n",
    "    print(\"!Advertencia¡ un asteroide paso los limites de velocidad es de \" + str(velocidadAsteroide) + \" Km/s\")\n",
    "\n",
    "else:\n",
    "    print(\"No se corre peligro\")\n",
    "\n"
   ]
  },
  {
   "cell_type": "markdown",
   "metadata": {},
   "source": [
    "Si un asteroide entra en la atmósfera de la Tierra a una velocidad mayor o igual a 20 km/s, a veces produce un rayo de luz que se puede ver desde la Tierra. Escribe la lógica condicional que usa declaraciones `if`, `else`, y `elif` para alertar a las personas de todo el mundo que deben buscar un asteroide en el cielo. ¡Hay uno que se dirige a la tierra ahora a una velocidad de 19 km/s!"
   ]
  },
  {
   "cell_type": "code",
   "execution_count": 19,
   "metadata": {},
   "outputs": [
    {
     "name": "stdout",
     "output_type": "stream",
     "text": [
      "No hay ninguna luz\n"
     ]
    }
   ],
   "source": [
    "velocidadLimite = 20\n",
    "velocidadAsteroide = 19\n",
    "if(velocidadAsteroide > velocidadLimite):\n",
    "    print(\"Alerta, hay una luz producida por un asteroide en el cielo\")\n",
    "elif(velocidadAsteroide == velocidadLimite):\n",
    "    print (\"Alerta, hay una luz producida por un asteroide en el cielo\")\n",
    "else:\n",
    "    print(\"No hay ninguna luz\")"
   ]
  },
  {
   "cell_type": "markdown",
   "metadata": {},
   "source": [
    "## Ejercicio: uso de operadores and y or"
   ]
  },
  {
   "cell_type": "code",
   "execution_count": 4,
   "metadata": {},
   "outputs": [
    {
     "name": "stdout",
     "output_type": "stream",
     "text": [
      "Alerta, hay una luz producida por un asteroide en el cielo\n"
     ]
    }
   ],
   "source": [
    "velocidadAsteroide = 25\n",
    "tamanoAsteroide = 28\n",
    "if velocidadAsteroide > 25 and tamanoAsteroide > 25:\n",
    "    print('Advertencia se acerca un asteriode peligroso a la tierra')\n",
    "elif velocidadAsteroide >= 20:\n",
    "    print('Alerta, hay una luz producida por un asteroide en el cielo')\n",
    "elif tamanoAsteroide < 25:\n",
    "    print('No hay ninguna luz :)')\n",
    "else:\n",
    "    print('No hay peligro :)')\n"
   ]
  }
 ],
 "metadata": {
  "interpreter": {
   "hash": "17524f0f0a02ee50c6bea30dab279b5d3da57113754815348add193fa753c57d"
  },
  "kernelspec": {
   "display_name": "Python 3.10.2 64-bit (windows store)",
   "language": "python",
   "name": "python3"
  },
  "language_info": {
   "codemirror_mode": {
    "name": "ipython",
    "version": 3
   },
   "file_extension": ".py",
   "mimetype": "text/x-python",
   "name": "python",
   "nbconvert_exporter": "python",
   "pygments_lexer": "ipython3",
   "version": "3.10.2"
  },
  "orig_nbformat": 4
 },
 "nbformat": 4,
 "nbformat_minor": 2
}
